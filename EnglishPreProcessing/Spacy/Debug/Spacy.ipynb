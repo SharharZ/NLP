{
 "cells": [
  {
   "cell_type": "code",
   "execution_count": 1,
   "metadata": {},
   "outputs": [],
   "source": [
    "import spacy\n",
    "import os\n",
    "import re\n",
    "nlp = spacy.load('en_core_web_sm', parse=True, tag=True, entity=True)"
   ]
  },
  {
   "cell_type": "code",
   "execution_count": 2,
   "metadata": {},
   "outputs": [],
   "source": [
    "def file_read(file_path):  # 读取内容\n",
    "    with open(file_path, encoding='UTF-8', errors='ignore') as f:\n",
    "        raw = f.read()\n",
    "        f.close()\n",
    "    return raw\n",
    "\n",
    "def sent_token(doc):  # 分割成句子\n",
    "    sents = []\n",
    "    for sent in doc.sents:\n",
    "        sents.append(sent.text)\n",
    "    return sents\n",
    "\n",
    "def clean_lines(line):  # 去除数字和ACSCII符号\n",
    "    a = '[’!\"#$%&\\'•●®()*+,-./:;<=>?@[\\\\]^_`{|}~]+'\n",
    "    line = re.sub(a, \"\", line)\n",
    "    line1 = re.sub('\\d', \" \", line)  # 数字\n",
    "    line2 = re.sub('\\n', \"\", line1)  # 去掉换行符\n",
    "    clean_line = re.sub('[^a-zA-Z]', ' ', line2).replace(\"\\n\", '')\n",
    "    return clean_line\n",
    "\n",
    "def spacy_tokenizer(sentence):\n",
    "    tokens = parser(sentence)\n",
    "    tokens = [tok.lemma_.lower().strip() if tok.lemma_ != \"-PRON-\" else tok.lower_ for tok in tokens]\n",
    "    tokens = [tok for tok in tokens if (tok not in stopwords and tok not in punctuations)]     \n",
    "    return tokens\n"
   ]
  },
  {
   "cell_type": "code",
   "execution_count": 17,
   "metadata": {},
   "outputs": [
    {
     "name": "stdout",
     "output_type": "stream",
     "text": [
      "CopusPath: data/test1.txt\n",
      "['hello', 'i', 'sharhar']\n",
      "['nice', 'to', 'meet', 'you']\n",
      "['good', 'morning']\n",
      "['there', 'mtwo']\n",
      "['practice']\n"
     ]
    }
   ],
   "source": [
    "data_path = 'data/'\n",
    "stopwords = '[’!\"#$%&\\'•●®()*+,-./:;<=>?@[\\\\]^_`{|}~]+'\n",
    "punctuations = ['be']\n",
    "for root, dirs, files in os.walk(data_path):\n",
    "    for eachfiles in files:\n",
    "        data_path = os.path.join(root, eachfiles).replace(\"\\\\\", \"/\")\n",
    "        print(\"CopusPath:\", data_path)\n",
    "        raw = file_read(data_path).strip()\n",
    "        doc = nlp(raw)\n",
    "        for tokens in doc.sents:   \n",
    "            tokens = [tok.lemma_.lower().strip() if tok.lemma_ != \"-PRON-\" else tok.lower_ for tok in tokens]\n",
    "            tokens = [tok for tok in tokens if (tok not in stopwords and tok not in punctuations)]\n",
    "            print(tokens)\n",
    "        #sents = sent_token(doc)\n",
    "        #print(sents)\n",
    "        #clean_lines = [clean_lines(line) for line in sents]\n",
    "        #print(clean_lines)\n",
    "        #lines = nlp(clean_lines)\n",
    "    \n",
    "        #print(doc.text.split())\n",
    "        #print(type(list(doc.sents)))\n",
    "        #print([token.orth_ for token in doc])\n",
    "        #print([token.orth_ for token in doc if not token.is_punct | token.is_space])\n",
    "\n",
    "                    "
   ]
  },
  {
   "cell_type": "code",
   "execution_count": null,
   "metadata": {},
   "outputs": [],
   "source": []
  },
  {
   "cell_type": "code",
   "execution_count": null,
   "metadata": {},
   "outputs": [],
   "source": []
  }
 ],
 "metadata": {
  "kernelspec": {
   "display_name": "Python 3",
   "language": "python",
   "name": "python3"
  },
  "language_info": {
   "codemirror_mode": {
    "name": "ipython",
    "version": 3
   },
   "file_extension": ".py",
   "mimetype": "text/x-python",
   "name": "python",
   "nbconvert_exporter": "python",
   "pygments_lexer": "ipython3",
   "version": "3.6.4"
  }
 },
 "nbformat": 4,
 "nbformat_minor": 2
}
