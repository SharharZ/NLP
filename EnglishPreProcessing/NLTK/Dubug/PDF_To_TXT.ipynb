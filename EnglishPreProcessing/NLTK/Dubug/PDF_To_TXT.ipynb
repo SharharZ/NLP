{
 "cells": [
  {
   "cell_type": "code",
   "execution_count": 1,
   "metadata": {},
   "outputs": [],
   "source": [
    "import os\n",
    "import warnings\n",
    "#warnings.filterwarnings('ignore')\n",
    "\n",
    "from pdfminer.pdfparser import PDFParser,PDFDocument\n",
    "from pdfminer.pdfinterp import PDFResourceManager, PDFPageInterpreter\n",
    "from pdfminer.converter import PDFPageAggregator\n",
    "from pdfminer.layout import LTTextBoxHorizontal,LAParams\n",
    "from pdfminer.pdfinterp import PDFTextExtractionNotAllowed"
   ]
  },
  {
   "cell_type": "code",
   "execution_count": 8,
   "metadata": {},
   "outputs": [],
   "source": [
    "#path = 'PDF_To_TXT/0958 ch03.pdf'\n",
    "dir = 'PDF_To_TXT/data'\n",
    "def parse():\n",
    "    for root,dirs,files in os.walk(dir):\n",
    "        for eachfiles in files:\n",
    "            try:\n",
    "                path = dir + '/' + eachfiles\n",
    "                print(path)\n",
    "                fp = open(path, 'rb') # 以二进制读模式打开\n",
    "                #用文件对象来创建一个pdf文档分析器\n",
    "                praser = PDFParser(fp)\n",
    "                # 创建一个PDF文档\n",
    "                doc = PDFDocument()\n",
    "                # 连接分析器 与文档对象\n",
    "                praser.set_document(doc)\n",
    "                doc.set_parser(praser)\n",
    "\n",
    "                # 提供初始化密码\n",
    "                # 如果没有密码 就创建一个空的字符串\n",
    "                doc.initialize()\n",
    "\n",
    "                # 检测文档是否提供txt转换，不提供就忽略\n",
    "                if not doc.is_extractable:\n",
    "                    #raise PDFTextExtractionNotAllowed\n",
    "                    continue\n",
    "                else:\n",
    "                    # 创建PDf 资源管理器 来管理共享资源\n",
    "                    rsrcmgr = PDFResourceManager()\n",
    "                    # 创建一个PDF设备对象\n",
    "                    laparams = LAParams()\n",
    "                    device = PDFPageAggregator(rsrcmgr, laparams=laparams)\n",
    "                    # 创建一个PDF解释器对象\n",
    "                    interpreter = PDFPageInterpreter(rsrcmgr, device)\n",
    "                    # 循环遍历列表，每次处理一个page的内容\n",
    "                    for page in doc.get_pages(): # doc.get_pages() 获取page列表 \n",
    "                        try:\n",
    "                            interpreter.process_page(page)\n",
    "                            # 接受该页面的LTPage对象\n",
    "                            layout = device.get_result()\n",
    "                            # 这里layout是一个LTPage对象 里面存放着 这个page解析出的各种对象 一般包括LTTextBox, LTFigure, LTImage, LTTextBoxHorizontal 等等 想要获取文本就获得对象的text属性，\n",
    "                            for x in layout:\n",
    "                                try:\n",
    "                                    if (isinstance(x, LTTextBoxHorizontal)):\n",
    "                                        with open('PDF_To_TXT/output/PMP books.txt', 'a',encoding='UTF-8',errors='ignore') as f:\n",
    "                                            results = x.get_text()\n",
    "                                            #print(results)\n",
    "                                            f.write(results + '\\n')\n",
    "                                except:\n",
    "                                    continue\n",
    "                        except:\n",
    "                            continue\n",
    "            except:\n",
    "                continue"
   ]
  },
  {
   "cell_type": "code",
   "execution_count": 9,
   "metadata": {
    "scrolled": true
   },
   "outputs": [
    {
     "name": "stdout",
     "output_type": "stream",
     "text": [
      "PDF_To_TXT/data/Head First PMP mock exam.pdf\n"
     ]
    },
    {
     "name": "stderr",
     "output_type": "stream",
     "text": [
      "WARNING:root:Literal required: CIDSystemInfo\n",
      "WARNING:root:Literal required: CIDSystemInfo\n",
      "WARNING:root:Literal required: CIDSystemInfo\n"
     ]
    },
    {
     "name": "stdout",
     "output_type": "stream",
     "text": [
      "PDF_To_TXT/data/Head First PMP.pdf\n"
     ]
    },
    {
     "name": "stderr",
     "output_type": "stream",
     "text": [
      "WARNING:root:Literal required: CIDSystemInfo\n",
      "WARNING:root:Literal required: CIDSystemInfo\n",
      "WARNING:root:Literal required: CIDSystemInfo\n",
      "WARNING:root:Literal required: CIDSystemInfo\n",
      "WARNING:root:Literal required: CIDSystemInfo\n",
      "WARNING:root:Literal required: CIDSystemInfo\n",
      "WARNING:root:Literal required: CIDSystemInfo\n",
      "WARNING:root:Literal required: CIDSystemInfo\n",
      "WARNING:root:Literal required: CIDSystemInfo\n",
      "WARNING:root:Literal required: CIDSystemInfo\n",
      "WARNING:root:Literal required: CIDSystemInfo\n",
      "WARNING:root:Literal required: CIDSystemInfo\n",
      "WARNING:root:Literal required: CIDSystemInfo\n",
      "WARNING:root:Literal required: CIDSystemInfo\n",
      "WARNING:root:Literal required: CIDSystemInfo\n",
      "WARNING:root:Literal required: CIDSystemInfo\n",
      "WARNING:root:Literal required: CIDSystemInfo\n",
      "WARNING:root:Literal required: CIDSystemInfo\n",
      "WARNING:root:Literal required: CIDSystemInfo\n",
      "WARNING:root:Literal required: CIDSystemInfo\n",
      "WARNING:root:Literal required: CIDSystemInfo\n",
      "WARNING:root:Literal required: CIDSystemInfo\n",
      "WARNING:root:Literal required: CIDSystemInfo\n",
      "WARNING:root:Literal required: CIDSystemInfo\n",
      "WARNING:root:Literal required: CIDSystemInfo\n",
      "WARNING:root:Literal required: CIDSystemInfo\n",
      "WARNING:root:Literal required: CIDSystemInfo\n",
      "WARNING:root:Literal required: CIDSystemInfo\n",
      "WARNING:root:Literal required: CIDSystemInfo\n",
      "WARNING:root:Literal required: CIDSystemInfo\n",
      "WARNING:root:Literal required: CIDSystemInfo\n",
      "WARNING:root:Literal required: CIDSystemInfo\n",
      "WARNING:root:Literal required: CIDSystemInfo\n",
      "WARNING:root:Literal required: CIDSystemInfo\n",
      "WARNING:root:Literal required: CIDSystemInfo\n",
      "WARNING:root:Literal required: CIDSystemInfo\n",
      "WARNING:root:Literal required: CIDSystemInfo\n",
      "WARNING:root:Literal required: CIDSystemInfo\n",
      "WARNING:root:Literal required: CIDSystemInfo\n",
      "WARNING:root:Literal required: CIDSystemInfo\n",
      "WARNING:root:Literal required: CIDSystemInfo\n",
      "WARNING:root:Literal required: CIDSystemInfo\n",
      "WARNING:root:Literal required: CIDSystemInfo\n",
      "WARNING:root:Literal required: CIDSystemInfo\n",
      "WARNING:root:Literal required: CIDSystemInfo\n",
      "WARNING:root:Literal required: CIDSystemInfo\n",
      "WARNING:root:Literal required: CIDSystemInfo\n",
      "WARNING:root:Literal required: CIDSystemInfo\n",
      "WARNING:root:Literal required: CIDSystemInfo\n",
      "WARNING:root:Literal required: CIDSystemInfo\n",
      "WARNING:root:Literal required: CIDSystemInfo\n",
      "WARNING:root:Literal required: CIDSystemInfo\n",
      "WARNING:root:Literal required: CIDSystemInfo\n",
      "WARNING:root:Literal required: CIDSystemInfo\n",
      "WARNING:root:Literal required: CIDSystemInfo\n",
      "WARNING:root:Literal required: CIDSystemInfo\n",
      "WARNING:root:Literal required: CIDSystemInfo\n",
      "WARNING:root:Literal required: CIDSystemInfo\n",
      "WARNING:root:Literal required: CIDSystemInfo\n",
      "WARNING:root:Literal required: CIDSystemInfo\n",
      "WARNING:root:Literal required: CIDSystemInfo\n",
      "WARNING:root:Literal required: CIDSystemInfo\n",
      "WARNING:root:Literal required: CIDSystemInfo\n",
      "WARNING:root:Literal required: CIDSystemInfo\n",
      "WARNING:root:Literal required: CIDSystemInfo\n",
      "WARNING:root:Literal required: CIDSystemInfo\n"
     ]
    },
    {
     "name": "stdout",
     "output_type": "stream",
     "text": [
      "PDF_To_TXT/data/PMP Formula Pocket Guide.pdf\n",
      "PDF_To_TXT/data/PMP Question Bank.pdf\n"
     ]
    },
    {
     "name": "stderr",
     "output_type": "stream",
     "text": [
      "WARNING:pdfminer.layout:Too many boxes (200) to group, skipping.\n",
      "WARNING:pdfminer.converter:undefined: <PDFTrueTypeFont: basefont='ULREGT+TTE18D45C0t00'>, 1\n",
      "WARNING:pdfminer.converter:undefined: <PDFTrueTypeFont: basefont='ULREGT+TTE18D45C0t00'>, 1\n",
      "WARNING:root:Unknown operator: '&'\n",
      "WARNING:root:Unknown operator: '\\xa0Èp-\\x11ð½\\x91Ãÿü¬jÎ8ì\\x8e\\x05\\x7fÊ'\n",
      "WARNING:root:Unknown operator: '\\x1c\\x98äL'\n",
      "WARNING:root:Unknown operator: '\\xa0JÔHq\\x18Ð\":\\x08¡È\\x98'\n",
      "WARNING:root:Unknown operator: '>Ö'\n",
      "WARNING:root:Unknown operator: '>9'\n",
      "WARNING:root:Unknown operator: '?þG'\n",
      "WARNING:root:Unknown operator: '\\x0c'\n",
      "WARNING:root:Type mismatch: None != 'p'\n",
      "WARNING:root:Unknown operator: ',Gü\\x86ÐùC\\x98'\n",
      "WARNING:root:Type mismatch: None != 'p'\n",
      "WARNING:root:Unknown operator: '\"\\x87Jü~\\x82'\n",
      "WARNING:root:Unknown operator: '\\x0bÿ'\n",
      "WARNING:root:Type mismatch: None != 'p'\n",
      "WARNING:root:Unknown operator: '\\x85ïßïþ#\\x00\\x10\\x01'\n",
      "WARNING:pdfminer.converter:undefined: <PDFTrueTypeFont: basefont='ULREGT+TTE18D45C0t00'>, 1\n"
     ]
    },
    {
     "name": "stdout",
     "output_type": "stream",
     "text": [
      "PDF_To_TXT/data/PMP-Q&A-Troytec-1000 Questions.pdf\n",
      "PDF_To_TXT/data/PMP_Mock_Exam_200_Q_A.pdf\n",
      "PDF_To_TXT/data/Rita 6 Edn PMP Exam.pdf\n",
      "PDF_To_TXT/data/Rita-PMP® Exam Prep 8th Edition - Rita Mulcahy.pdf\n",
      "PDF_To_TXT/data/PgMBOK.pdf\n",
      "PDF_To_TXT/data/Project Management Maturity Model.pdf\n",
      "PDF_To_TXT/data/The Standard for Portfolio Management.pdf\n",
      "PDF_To_TXT/data/01_Intro_&_PM_Framework..pdf\n",
      "PDF_To_TXT/data/02 Integration.pdf\n",
      "PDF_To_TXT/data/03 Scope.pdf\n",
      "PDF_To_TXT/data/04 Time.pdf\n",
      "PDF_To_TXT/data/05 Cost.pdf\n",
      "PDF_To_TXT/data/06 Quality.pdf\n",
      "PDF_To_TXT/data/07 HR.pdf\n",
      "PDF_To_TXT/data/08 Communication.pdf\n",
      "PDF_To_TXT/data/09 Risk.pdf\n",
      "PDF_To_TXT/data/10_Project_Procurement_ManagementPrs1.pdf\n",
      "PDF_To_TXT/data/11 Professional Responsibility2.pdf\n"
     ]
    }
   ],
   "source": [
    "\n",
    "if __name__ == '__main__':\n",
    "    parse()"
   ]
  },
  {
   "cell_type": "code",
   "execution_count": null,
   "metadata": {},
   "outputs": [],
   "source": []
  },
  {
   "cell_type": "code",
   "execution_count": null,
   "metadata": {},
   "outputs": [],
   "source": []
  },
  {
   "cell_type": "code",
   "execution_count": null,
   "metadata": {},
   "outputs": [],
   "source": []
  }
 ],
 "metadata": {
  "kernelspec": {
   "display_name": "Python 3",
   "language": "python",
   "name": "python3"
  },
  "language_info": {
   "codemirror_mode": {
    "name": "ipython",
    "version": 3
   },
   "file_extension": ".py",
   "mimetype": "text/x-python",
   "name": "python",
   "nbconvert_exporter": "python",
   "pygments_lexer": "ipython3",
   "version": "3.6.4"
  }
 },
 "nbformat": 4,
 "nbformat_minor": 2
}
