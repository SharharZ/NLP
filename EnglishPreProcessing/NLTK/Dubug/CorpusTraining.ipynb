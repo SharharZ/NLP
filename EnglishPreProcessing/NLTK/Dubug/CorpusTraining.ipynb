{
 "cells": [
  {
   "cell_type": "code",
   "execution_count": 1,
   "metadata": {},
   "outputs": [
    {
     "name": "stderr",
     "output_type": "stream",
     "text": [
      "C:\\Users\\two\\Anaconda3\\lib\\site-packages\\gensim\\utils.py:1197: UserWarning: detected Windows; aliasing chunkize to chunkize_serial\n",
      "  warnings.warn(\"detected Windows; aliasing chunkize to chunkize_serial\")\n"
     ]
    }
   ],
   "source": [
    "import numpy as np\n",
    "import pandas as pd\n",
    "from gensim.models import word2vec\n",
    "import logging\n",
    "from gensim.models.keyedvectors import KeyedVectors"
   ]
  },
  {
   "cell_type": "code",
   "execution_count": 2,
   "metadata": {},
   "outputs": [],
   "source": [
    "sents = word2vec.LineSentence('CorpusTraining/First/result.txt')\n",
    "model =  word2vec.Word2Vec(sents, size=100, window=5, min_count=1, workers=1)\n",
    "#print(model['education'])\n",
    "model.save(\"CorpusTraining/First/first.model\", ignore=[])"
   ]
  },
  {
   "cell_type": "code",
   "execution_count": 3,
   "metadata": {},
   "outputs": [
    {
     "name": "stdout",
     "output_type": "stream",
     "text": [
      "[-0.00807289  0.00255289  0.00418706  0.0011476   0.01550423 -0.00530094\n",
      "  0.00299873 -0.00808786 -0.00588968 -0.0008111  -0.01447298 -0.00481272\n",
      "  0.01143735  0.01962179  0.01595587  0.0151597  -0.03722559 -0.0070194\n",
      "  0.01489174  0.02003608  0.0027283  -0.00789347  0.0113204   0.0086148\n",
      " -0.00852854 -0.00837735  0.00612046 -0.00255262  0.00593862 -0.00649916\n",
      "  0.00093534  0.00415034  0.01505664  0.00524478 -0.00208679 -0.01046309\n",
      "  0.00579272 -0.00783682  0.00656773  0.01918124 -0.00884597  0.00108654\n",
      " -0.01026085 -0.01815008 -0.01640014 -0.00672943 -0.01984823 -0.01978558\n",
      "  0.02042148  0.00665936  0.00668096  0.00604982 -0.00325041 -0.0103113\n",
      " -0.01497184  0.01827422 -0.01354143  0.01760318  0.0020403   0.00382469\n",
      " -0.00639487  0.00058267 -0.00918122  0.01906859 -0.00258272  0.02910033\n",
      " -0.00947939  0.00683363 -0.00883797 -0.02443662  0.00387187 -0.03446782\n",
      "  0.00834996 -0.01898604 -0.01496134  0.0080916   0.01081719  0.01129612\n",
      " -0.0009041   0.00261359  0.00724463  0.02080818  0.00241963 -0.00574602\n",
      "  0.00795936 -0.00533616  0.00812729 -0.01773856 -0.01615808  0.00856056\n",
      "  0.00321585  0.0083888   0.02037964  0.00299264  0.00532163  0.02678749\n",
      " -0.02163349 -0.00139844 -0.00893477  0.00081759]\n"
     ]
    }
   ],
   "source": [
    "print(model.wv['material'])"
   ]
  },
  {
   "cell_type": "code",
   "execution_count": 4,
   "metadata": {},
   "outputs": [
    {
     "name": "stdout",
     "output_type": "stream",
     "text": [
      "Model to bin, Conversion to complete!! \n"
     ]
    }
   ],
   "source": [
    "#model convert to bin\n",
    "model = KeyedVectors.load('CorpusTraining/First/first.model')\n",
    "# 以一种C语言可以解析的形式存储词向量  \n",
    "model.wv.save_word2vec_format(\"CorpusTraining/First/first.bin\", binary=True)\n",
    "print(\"Model to bin, Conversion to complete!! \")"
   ]
  },
  {
   "cell_type": "code",
   "execution_count": 2,
   "metadata": {},
   "outputs": [
    {
     "name": "stdout",
     "output_type": "stream",
     "text": [
      "Done loading Word2Vec!\n",
      "Bin to txt, Conversion to complete!! \n"
     ]
    }
   ],
   "source": [
    "#bin to txt\n",
    "model = KeyedVectors.load_word2vec_format('GoogleNews/GoogleNews-vectors-negative300-Simplify.bin', binary=True)\n",
    "print(\"Done loading Word2Vec!\")\n",
    "f = open('GoogleNews/GoogleNews-vectors-negative300-Simplify.txt','w', encoding='utf8')\n",
    "vocab = model.vocab\n",
    "f.write(str(len(vocab))+\" \"+str(model.vector_size)+\"\\n\\n\")\n",
    "for item in vocab:\n",
    "    vector = []  \n",
    "    for dimension in model[item]:\n",
    "        vector.append(str(dimension))\n",
    "    vector_str = \",\".join(vector)\n",
    "    line = item + \" \"  + vector_str \n",
    "    f.write(line + \"\\n\\n\")\n",
    "f.close()\n",
    "print(\"Bin to txt, Conversion to complete!! \")"
   ]
  },
  {
   "cell_type": "code",
   "execution_count": null,
   "metadata": {},
   "outputs": [],
   "source": []
  }
 ],
 "metadata": {
  "kernelspec": {
   "display_name": "Python 3",
   "language": "python",
   "name": "python3"
  },
  "language_info": {
   "codemirror_mode": {
    "name": "ipython",
    "version": 3
   },
   "file_extension": ".py",
   "mimetype": "text/x-python",
   "name": "python",
   "nbconvert_exporter": "python",
   "pygments_lexer": "ipython3",
   "version": "3.6.4"
  }
 },
 "nbformat": 4,
 "nbformat_minor": 2
}
