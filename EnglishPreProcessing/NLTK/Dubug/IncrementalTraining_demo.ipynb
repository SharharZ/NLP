{
 "cells": [
  {
   "cell_type": "code",
   "execution_count": 1,
   "metadata": {},
   "outputs": [
    {
     "name": "stderr",
     "output_type": "stream",
     "text": [
      "C:\\Users\\two\\Anaconda3\\lib\\site-packages\\gensim\\utils.py:1197: UserWarning: detected Windows; aliasing chunkize to chunkize_serial\n",
      "  warnings.warn(\"detected Windows; aliasing chunkize to chunkize_serial\")\n"
     ]
    }
   ],
   "source": [
    "import numpy as np\n",
    "import pandas as pd\n",
    "from gensim.models import word2vec\n",
    "import logging\n",
    "from gensim.models.keyedvectors import KeyedVectors"
   ]
  },
  {
   "cell_type": "code",
   "execution_count": 2,
   "metadata": {},
   "outputs": [
    {
     "name": "stdout",
     "output_type": "stream",
     "text": [
      "[-3.74958711e-03  2.41822621e-04  8.85974296e-05 -6.57486357e-03\n",
      " -1.76686898e-03 -5.06138802e-03 -2.31088581e-03 -2.53187632e-03\n",
      "  4.18869924e-04 -2.81386863e-04  3.47665604e-03 -3.98832560e-03\n",
      " -1.86644169e-03  5.67333447e-03 -2.18092254e-03 -1.63102080e-03\n",
      "  4.99689137e-04 -5.16717555e-04 -2.03940412e-03 -5.19564899e-04\n",
      "  1.58903410e-03  3.29942140e-03 -2.02006218e-03  2.00954732e-03\n",
      "  1.85146648e-03 -8.51880526e-04  1.84107374e-03  5.69208153e-03\n",
      "  3.49381380e-03  1.11594063e-03  4.47945762e-03  8.60301137e-04\n",
      " -5.59744332e-03  4.64705424e-03  2.91621406e-03  3.37848696e-03\n",
      " -3.37879965e-03 -3.60763771e-03  1.41748274e-03 -6.17975660e-04\n",
      " -2.39270180e-03  3.63277271e-03  5.31897706e-04 -6.28537964e-03\n",
      " -2.01765751e-03 -1.72059692e-03  2.01503257e-03  9.07665002e-04\n",
      "  3.72494134e-04 -5.15974779e-03  1.73725549e-03  2.84720538e-03\n",
      " -9.22826701e-04 -2.44533387e-03 -3.91102582e-03  4.28408897e-03\n",
      "  4.76996228e-03  7.74851535e-03  4.78729745e-03  7.81863753e-04\n",
      " -6.09350996e-03  1.94752088e-03 -3.33256507e-03  3.96394695e-04\n",
      " -1.09320041e-03  4.27195476e-03 -1.10862579e-03 -3.12118256e-03\n",
      " -3.55997379e-03 -3.17952735e-03  2.53606777e-05 -2.31969729e-03\n",
      "  1.49417575e-03 -1.05947419e-03 -5.52360574e-03  3.21046379e-03\n",
      " -2.86033540e-03 -6.61508355e-04  4.23927500e-04 -5.02115209e-03\n",
      "  2.16174591e-03 -2.28013634e-03  4.96519217e-03 -2.34132260e-03\n",
      " -6.20616484e-04  1.90024520e-03  1.66053907e-03  8.57189589e-04\n",
      "  3.64526175e-03 -2.14367826e-03 -4.65535093e-03  2.97740335e-03\n",
      " -4.08959156e-03 -5.67842927e-03  2.98207486e-03  2.95800786e-03\n",
      "  1.03658866e-04 -3.52663035e-03 -5.35797188e-03 -3.10005737e-03]\n"
     ]
    },
    {
     "name": "stderr",
     "output_type": "stream",
     "text": [
      "C:\\Users\\two\\Anaconda3\\lib\\site-packages\\ipykernel_launcher.py:4: DeprecationWarning: Call to deprecated `__getitem__` (Method will be removed in 4.0.0, use self.wv.__getitem__() instead).\n",
      "  after removing the cwd from sys.path.\n"
     ]
    }
   ],
   "source": [
    "#生成model\n",
    "sents = word2vec.LineSentence('IncrementalTraining/result.txt')\n",
    "model =  word2vec.Word2Vec(sents, size=100, window=5, min_count=1, workers=1)\n",
    "print(model['education'])\n",
    "model.save(\"IncrementalTraining/first.model\", ignore=[])\n"
   ]
  },
  {
   "cell_type": "code",
   "execution_count": 3,
   "metadata": {},
   "outputs": [
    {
     "name": "stderr",
     "output_type": "stream",
     "text": [
      "C:\\Users\\two\\Anaconda3\\lib\\site-packages\\ipykernel_launcher.py:7: DeprecationWarning: Call to deprecated `__getitem__` (Method will be removed in 4.0.0, use self.wv.__getitem__() instead).\n",
      "  import sys\n"
     ]
    },
    {
     "name": "stdout",
     "output_type": "stream",
     "text": [
      "[-3.74958711e-03  2.41822621e-04  8.85974296e-05 -6.57486357e-03\n",
      " -1.76686898e-03 -5.06138802e-03 -2.31088581e-03 -2.53187632e-03\n",
      "  4.18869924e-04 -2.81386863e-04  3.47665604e-03 -3.98832560e-03\n",
      " -1.86644169e-03  5.67333447e-03 -2.18092254e-03 -1.63102080e-03\n",
      "  4.99689137e-04 -5.16717555e-04 -2.03940412e-03 -5.19564899e-04\n",
      "  1.58903410e-03  3.29942140e-03 -2.02006218e-03  2.00954732e-03\n",
      "  1.85146648e-03 -8.51880526e-04  1.84107374e-03  5.69208153e-03\n",
      "  3.49381380e-03  1.11594063e-03  4.47945762e-03  8.60301137e-04\n",
      " -5.59744332e-03  4.64705424e-03  2.91621406e-03  3.37848696e-03\n",
      " -3.37879965e-03 -3.60763771e-03  1.41748274e-03 -6.17975660e-04\n",
      " -2.39270180e-03  3.63277271e-03  5.31897706e-04 -6.28537964e-03\n",
      " -2.01765751e-03 -1.72059692e-03  2.01503257e-03  9.07665002e-04\n",
      "  3.72494134e-04 -5.15974779e-03  1.73725549e-03  2.84720538e-03\n",
      " -9.22826701e-04 -2.44533387e-03 -3.91102582e-03  4.28408897e-03\n",
      "  4.76996228e-03  7.74851535e-03  4.78729745e-03  7.81863753e-04\n",
      " -6.09350996e-03  1.94752088e-03 -3.33256507e-03  3.96394695e-04\n",
      " -1.09320041e-03  4.27195476e-03 -1.10862579e-03 -3.12118256e-03\n",
      " -3.55997379e-03 -3.17952735e-03  2.53606777e-05 -2.31969729e-03\n",
      "  1.49417575e-03 -1.05947419e-03 -5.52360574e-03  3.21046379e-03\n",
      " -2.86033540e-03 -6.61508355e-04  4.23927500e-04 -5.02115209e-03\n",
      "  2.16174591e-03 -2.28013634e-03  4.96519217e-03 -2.34132260e-03\n",
      " -6.20616484e-04  1.90024520e-03  1.66053907e-03  8.57189589e-04\n",
      "  3.64526175e-03 -2.14367826e-03 -4.65535093e-03  2.97740335e-03\n",
      " -4.08959156e-03 -5.67842927e-03  2.98207486e-03  2.95800786e-03\n",
      "  1.03658866e-04 -3.52663035e-03 -5.35797188e-03 -3.10005737e-03]\n",
      "[-1.07169017e-01 -3.05756837e-01 -3.52168381e-01 -7.25149155e-01\n",
      " -1.50336493e-02  1.96342930e-01 -2.58626282e-01  4.56146061e-01\n",
      "  1.12610035e-01 -4.55747366e-01  3.08164090e-01 -1.55703396e-01\n",
      "  2.34454703e-02  2.71567792e-01  1.94668472e-01  6.29260167e-02\n",
      "  1.72518075e-01 -5.18394299e-02  6.42012596e-01  1.96870700e-01\n",
      "  6.64873004e-01 -1.26689464e-01  7.33038902e-01 -4.36927080e-02\n",
      "  3.61818373e-01 -9.87306163e-02 -3.74612063e-01  1.25214756e-01\n",
      "  1.08659573e-01  2.61069238e-01 -3.33807260e-01  3.88802856e-01\n",
      " -2.09435448e-01  5.93821406e-01  2.10492641e-01  3.46804589e-01\n",
      "  4.13602412e-01 -3.71448770e-02 -4.71139327e-02  1.22112408e-01\n",
      " -1.99948147e-01 -2.06956252e-01  9.92597193e-02 -5.35232961e-01\n",
      "  1.45660788e-01 -3.42468947e-01  8.79105479e-02  3.96856852e-02\n",
      " -1.89016938e-01  2.50624776e-01  2.01677736e-02  3.92500937e-01\n",
      "  3.15034799e-02  2.63832569e-01 -2.02195749e-01  1.15867602e-02\n",
      "  1.56637043e-01  6.03412271e-01  4.93850708e-01 -7.53884256e-01\n",
      " -2.97546238e-01  2.55515337e-01 -3.80293839e-02  3.60626280e-02\n",
      "  2.51053333e-01 -1.28355518e-01 -2.02755511e-01 -7.67894328e-01\n",
      " -2.52116501e-01 -3.07456553e-01  3.10050011e-01  1.58608824e-01\n",
      " -4.69902247e-01  1.33498892e-01 -2.57966757e-01  3.59888226e-01\n",
      "  2.87141293e-01  1.84403419e-01 -2.10162014e-01  3.51304077e-02\n",
      "  1.49182994e-02  4.87223774e-01  2.59404182e-01 -4.98109013e-01\n",
      " -9.00714844e-02 -1.11346923e-01 -3.16956669e-01  5.09897470e-01\n",
      " -2.21266046e-01 -2.57644162e-04 -3.10472045e-02  1.72345117e-02\n",
      " -5.17487884e-01 -8.86989012e-02  8.24477449e-02 -5.36409281e-02\n",
      " -1.11435629e-01 -4.74848032e-01 -7.97997937e-02 -1.66072264e-01]\n"
     ]
    },
    {
     "name": "stderr",
     "output_type": "stream",
     "text": [
      "C:\\Users\\two\\Anaconda3\\lib\\site-packages\\ipykernel_launcher.py:12: DeprecationWarning: Call to deprecated `__getitem__` (Method will be removed in 4.0.0, use self.wv.__getitem__() instead).\n",
      "  if sys.path[0] == '':\n"
     ]
    }
   ],
   "source": [
    "#incrementalTraining\n",
    "more_sentences = word2vec.Text8Corpus(\"IncrementalTraining/text8\")   # 加载语料\n",
    "#model = word2vec.Word2Vec(sentences, size=200, window=5, min_count=5)  \n",
    "# min-count 表示设置最低频率，默认为5，如果一个词语在文档中出现的次数小于该阈值，那么该词就会被舍弃\n",
    "# size代表词词向量的维度\n",
    "model2 = KeyedVectors.load('IncrementalTraining/first.model')\n",
    "print(model2['education'])\n",
    "model2.train(more_sentences,total_examples=model.corpus_count, epochs=2)\n",
    "model2.save(\"IncrementalTraining/second.model\", ignore=[])\n",
    "#second model\n",
    "model3 = KeyedVectors.load('IncrementalTraining/second.model')\n",
    "print(model3['education'])"
   ]
  },
  {
   "cell_type": "code",
   "execution_count": 4,
   "metadata": {},
   "outputs": [],
   "source": [
    "#model convert to bin\n",
    "model3 = KeyedVectors.load('IncrementalTraining/first.model')\n",
    "# 以一种C语言可以解析的形式存储词向量  \n",
    "model3.wv.save_word2vec_format(\"IncrementalTraining/first.bin\", binary=True)  "
   ]
  },
  {
   "cell_type": "code",
   "execution_count": 5,
   "metadata": {},
   "outputs": [
    {
     "name": "stdout",
     "output_type": "stream",
     "text": [
      "[-3.74958711e-03  2.41822621e-04  8.85974296e-05 -6.57486357e-03\n",
      " -1.76686898e-03 -5.06138802e-03 -2.31088581e-03 -2.53187632e-03\n",
      "  4.18869924e-04 -2.81386863e-04  3.47665604e-03 -3.98832560e-03\n",
      " -1.86644169e-03  5.67333447e-03 -2.18092254e-03 -1.63102080e-03\n",
      "  4.99689137e-04 -5.16717555e-04 -2.03940412e-03 -5.19564899e-04\n",
      "  1.58903410e-03  3.29942140e-03 -2.02006218e-03  2.00954732e-03\n",
      "  1.85146648e-03 -8.51880526e-04  1.84107374e-03  5.69208153e-03\n",
      "  3.49381380e-03  1.11594063e-03  4.47945762e-03  8.60301137e-04\n",
      " -5.59744332e-03  4.64705424e-03  2.91621406e-03  3.37848696e-03\n",
      " -3.37879965e-03 -3.60763771e-03  1.41748274e-03 -6.17975660e-04\n",
      " -2.39270180e-03  3.63277271e-03  5.31897706e-04 -6.28537964e-03\n",
      " -2.01765751e-03 -1.72059692e-03  2.01503257e-03  9.07665002e-04\n",
      "  3.72494134e-04 -5.15974779e-03  1.73725549e-03  2.84720538e-03\n",
      " -9.22826701e-04 -2.44533387e-03 -3.91102582e-03  4.28408897e-03\n",
      "  4.76996228e-03  7.74851535e-03  4.78729745e-03  7.81863753e-04\n",
      " -6.09350996e-03  1.94752088e-03 -3.33256507e-03  3.96394695e-04\n",
      " -1.09320041e-03  4.27195476e-03 -1.10862579e-03 -3.12118256e-03\n",
      " -3.55997379e-03 -3.17952735e-03  2.53606777e-05 -2.31969729e-03\n",
      "  1.49417575e-03 -1.05947419e-03 -5.52360574e-03  3.21046379e-03\n",
      " -2.86033540e-03 -6.61508355e-04  4.23927500e-04 -5.02115209e-03\n",
      "  2.16174591e-03 -2.28013634e-03  4.96519217e-03 -2.34132260e-03\n",
      " -6.20616484e-04  1.90024520e-03  1.66053907e-03  8.57189589e-04\n",
      "  3.64526175e-03 -2.14367826e-03 -4.65535093e-03  2.97740335e-03\n",
      " -4.08959156e-03 -5.67842927e-03  2.98207486e-03  2.95800786e-03\n",
      "  1.03658866e-04 -3.52663035e-03 -5.35797188e-03 -3.10005737e-03]\n"
     ]
    },
    {
     "ename": "AttributeError",
     "evalue": "'Word2VecKeyedVectors' object has no attribute 'train'",
     "output_type": "error",
     "traceback": [
      "\u001b[1;31m---------------------------------------------------------------------------\u001b[0m",
      "\u001b[1;31mAttributeError\u001b[0m                            Traceback (most recent call last)",
      "\u001b[1;32m<ipython-input-5-90732637ed61>\u001b[0m in \u001b[0;36m<module>\u001b[1;34m()\u001b[0m\n\u001b[0;32m      3\u001b[0m \u001b[0mmodel3\u001b[0m \u001b[1;33m=\u001b[0m \u001b[0mKeyedVectors\u001b[0m\u001b[1;33m.\u001b[0m\u001b[0mload_word2vec_format\u001b[0m\u001b[1;33m(\u001b[0m\u001b[1;34m'IncrementalTraining/first.bin'\u001b[0m\u001b[1;33m,\u001b[0m \u001b[0mbinary\u001b[0m\u001b[1;33m=\u001b[0m\u001b[1;32mTrue\u001b[0m\u001b[1;33m)\u001b[0m\u001b[1;33m\u001b[0m\u001b[0m\n\u001b[0;32m      4\u001b[0m \u001b[0mprint\u001b[0m\u001b[1;33m(\u001b[0m\u001b[0mmodel3\u001b[0m\u001b[1;33m[\u001b[0m\u001b[1;34m'education'\u001b[0m\u001b[1;33m]\u001b[0m\u001b[1;33m)\u001b[0m\u001b[1;33m\u001b[0m\u001b[0m\n\u001b[1;32m----> 5\u001b[1;33m \u001b[0mmodel3\u001b[0m\u001b[1;33m.\u001b[0m\u001b[0mtrain\u001b[0m\u001b[1;33m(\u001b[0m\u001b[0mmore_sentences\u001b[0m\u001b[1;33m,\u001b[0m\u001b[0mtotal_examples\u001b[0m\u001b[1;33m=\u001b[0m\u001b[0mmodel\u001b[0m\u001b[1;33m.\u001b[0m\u001b[0mcorpus_count\u001b[0m\u001b[1;33m,\u001b[0m \u001b[0mepochs\u001b[0m\u001b[1;33m=\u001b[0m\u001b[1;36m2\u001b[0m\u001b[1;33m)\u001b[0m\u001b[1;33m\u001b[0m\u001b[0m\n\u001b[0m\u001b[0;32m      6\u001b[0m \u001b[0mmodel3\u001b[0m\u001b[1;33m.\u001b[0m\u001b[0msave\u001b[0m\u001b[1;33m(\u001b[0m\u001b[1;34m\"IncrementalTraining/three.model\"\u001b[0m\u001b[1;33m,\u001b[0m \u001b[0mignore\u001b[0m\u001b[1;33m=\u001b[0m\u001b[1;33m[\u001b[0m\u001b[1;33m]\u001b[0m\u001b[1;33m)\u001b[0m\u001b[1;33m\u001b[0m\u001b[0m\n\u001b[0;32m      7\u001b[0m \u001b[0mprint\u001b[0m\u001b[1;33m(\u001b[0m\u001b[0mmodel2\u001b[0m\u001b[1;33m[\u001b[0m\u001b[1;34m'education'\u001b[0m\u001b[1;33m]\u001b[0m\u001b[1;33m)\u001b[0m\u001b[1;33m\u001b[0m\u001b[0m\n",
      "\u001b[1;31mAttributeError\u001b[0m: 'Word2VecKeyedVectors' object has no attribute 'train'"
     ]
    }
   ],
   "source": [
    "#IncrementalTraining C\n",
    "more_sentences = word2vec.Text8Corpus(\"IncrementalTraining/text8\")   # 加载语料\n",
    "model3 = KeyedVectors.load_word2vec_format('IncrementalTraining/first.bin', binary=True)\n",
    "print(model3['education'])\n",
    "model3.train(more_sentences,total_examples=model.corpus_count, epochs=2)\n",
    "model3.save(\"IncrementalTraining/three.model\", ignore=[])\n",
    "print(model3['education'])"
   ]
  },
  {
   "cell_type": "code",
   "execution_count": 6,
   "metadata": {},
   "outputs": [
    {
     "name": "stdout",
     "output_type": "stream",
     "text": [
      "[ 2.3020794   0.23757683  0.2995165  -0.5796157   0.5316201   0.07405192\n",
      "  0.42911375 -0.54138905 -0.01687054  0.69129294  0.4430064   0.5257548\n",
      " -0.6341277   2.039383    0.18870422 -0.7319367  -2.6692824   0.6414572\n",
      " -0.37559998  0.0764557  -0.03859632 -0.3681472  -1.4626471   0.01283639\n",
      " -1.844978   -0.7042145   0.34349218  1.6618547  -0.7300224   0.5678266\n",
      " -1.3266963  -0.6634803   2.127025    0.41060048 -0.2661574   1.8631556\n",
      "  0.33987296  0.62689644 -2.4542027   0.4321089  -0.43579364  0.99301445\n",
      " -2.1783955   0.7395672  -1.2589263  -2.588296    0.71078014 -0.04867466\n",
      " -0.7164498   1.1129249  -1.0321075   0.41402245  1.7370352  -0.67879105\n",
      "  0.18620351  0.7973193  -0.57984775 -0.50285715 -1.0319644  -0.34588137\n",
      "  1.8190112   1.5878785  -0.55100495  1.409411    0.42250347 -1.4687322\n",
      "  1.2823166  -0.64244294 -2.5248754   1.3979027   0.06336308  0.5632643\n",
      "  0.6623304  -1.2294917   1.404565    0.08324089 -0.25056466  0.98576397\n",
      " -0.76071715  1.4333336   1.9913888  -1.0606004   0.74170864  0.1505935\n",
      "  0.52576655  0.00497378  1.9258606   1.1952081   0.89261985 -0.5673744\n",
      " -0.9586475   0.47877228 -0.72183007 -1.537599    1.0292827  -0.43083334\n",
      "  1.500292   -0.03906459  1.1371907   0.5043367   1.2067188  -0.9739807\n",
      " -0.88360566  1.6244515  -0.4866788   0.39278188 -1.6225014   0.74224776\n",
      "  1.5408785  -0.07662788  2.3811972   0.2512981   0.46808755  0.17084955\n",
      " -0.662824    2.112849   -0.36606058  0.14260417  0.73089075 -3.72413\n",
      " -0.44516113 -0.25926778  1.2185358   1.2940245  -1.8169693   0.11860548\n",
      " -0.27604377 -0.2692617  -0.13766629  0.8281218  -0.9392     -0.5013932\n",
      "  1.4927977   0.36513323 -0.40254053  0.82815856  1.3933887   0.17317437\n",
      " -0.54708004  0.7720099  -1.4143623  -0.5616427  -0.83355796  1.7788408\n",
      "  0.27951005  0.95708    -0.86531585  0.41620642 -0.03596839  2.2244434\n",
      "  1.4890896  -1.7006216   1.1762056  -0.815461    1.7359631   0.96212053\n",
      "  0.40307963 -0.13874853 -1.342326    1.4398947  -0.4679691   1.0746746\n",
      " -0.34592432 -0.6753868  -0.81441814  0.61751    -1.1494857  -0.43768156\n",
      "  1.1755277   0.15612836 -2.2328472   0.9475245  -0.19672236 -0.17598145\n",
      "  0.42860997 -1.4504521   1.4667321   0.04123266 -0.2720546  -0.7983587\n",
      "  1.7178597   1.0095896   0.08131491  0.58456343  2.1812558  -1.1692089\n",
      "  0.8455503  -0.18438831  0.27152622 -0.94778085  0.6259205   0.6466025\n",
      "  0.44526064 -0.11261805  1.1168869  -0.6359056   0.8826176   0.7465643\n",
      " -0.44511572 -0.33046633]\n"
     ]
    },
    {
     "name": "stderr",
     "output_type": "stream",
     "text": [
      "C:\\Users\\two\\Anaconda3\\lib\\site-packages\\ipykernel_launcher.py:3: DeprecationWarning: Call to deprecated `__getitem__` (Method will be removed in 4.0.0, use self.wv.__getitem__() instead).\n",
      "  This is separate from the ipykernel package so we can avoid doing imports until\n"
     ]
    }
   ],
   "source": [
    "#text8 corpus test\n",
    "model4 = KeyedVectors.load('text8/text8.model')\n",
    "print(model4['education'])"
   ]
  },
  {
   "cell_type": "code",
   "execution_count": 9,
   "metadata": {},
   "outputs": [],
   "source": [
    "#bin transform txt\n",
    "model = KeyedVectors.load_word2vec_format('IncrementalTraining/first.bin', binary=True)\n",
    "model.save_word2vec_format('IncrementalTraining/first.txt', binary=False)"
   ]
  },
  {
   "cell_type": "markdown",
   "metadata": {},
   "source": [
    "### The word vectors can also be instantiated from an existing file on disk in the word2vec C format as a KeyedVectors instance.\n",
    "\n",
    "###  It is impossible to continue training the vectors loaded from the C format because hidden weights, vocabulary frequency and the binary tree is missing"
   ]
  },
  {
   "cell_type": "code",
   "execution_count": 12,
   "metadata": {},
   "outputs": [
    {
     "name": "stdout",
     "output_type": "stream",
     "text": [
      "model: <class 'gensim.models.word2vec.Word2Vec'>\n",
      "bin: <class 'gensim.models.keyedvectors.Word2VecKeyedVectors'>\n",
      "txt: <class 'gensim.models.keyedvectors.Word2VecKeyedVectors'>\n"
     ]
    }
   ],
   "source": [
    "\n",
    "#test modelFile and binFile\n",
    "model = KeyedVectors.load('IncrementalTraining/first.model')\n",
    "model2 = KeyedVectors.load_word2vec_format('IncrementalTraining/first.bin', binary=True)\n",
    "model3 = KeyedVectors.load_word2vec_format('IncrementalTraining/first.txt', binary=False)\n",
    "print(\"model:\", type(model))\n",
    "print(\"bin:\", type(model2))\n",
    "print(\"txt:\", type(model3))"
   ]
  },
  {
   "cell_type": "code",
   "execution_count": null,
   "metadata": {},
   "outputs": [],
   "source": []
  },
  {
   "cell_type": "code",
   "execution_count": null,
   "metadata": {},
   "outputs": [],
   "source": []
  }
 ],
 "metadata": {
  "kernelspec": {
   "display_name": "Python 3",
   "language": "python",
   "name": "python3"
  },
  "language_info": {
   "codemirror_mode": {
    "name": "ipython",
    "version": 3
   },
   "file_extension": ".py",
   "mimetype": "text/x-python",
   "name": "python",
   "nbconvert_exporter": "python",
   "pygments_lexer": "ipython3",
   "version": "3.6.4"
  }
 },
 "nbformat": 4,
 "nbformat_minor": 2
}
