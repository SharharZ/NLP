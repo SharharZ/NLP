{
 "cells": [
  {
   "cell_type": "code",
   "execution_count": 1,
   "metadata": {},
   "outputs": [
    {
     "name": "stderr",
     "output_type": "stream",
     "text": [
      "C:\\Users\\two\\Anaconda3\\lib\\site-packages\\gensim\\utils.py:1197: UserWarning: detected Windows; aliasing chunkize to chunkize_serial\n",
      "  warnings.warn(\"detected Windows; aliasing chunkize to chunkize_serial\")\n"
     ]
    }
   ],
   "source": [
    "# allow plural words which have a singular form in the dicts (use stem logic)\n",
    "\n",
    "from gensim.models import word2vec\n",
    "from gensim.models.keyedvectors import KeyedVectors\n",
    "import time\n",
    "import numpy as np\n",
    "import gzip\n",
    "import os\n"
   ]
  },
  {
   "cell_type": "code",
   "execution_count": 3,
   "metadata": {},
   "outputs": [
    {
     "name": "stdout",
     "output_type": "stream",
     "text": [
      "urban50.txt.gz: 86724 -> 86724\n",
      "words.txt.gz: 354986 -> 354984\n",
      "words2.txt.gz: 235886 -> 234371\n",
      "words3.txt.gz: 479829 -> 462984\n",
      "combined: 521924\n",
      "Finished loading original model 0.72 min\n",
      "word2vec: 3000000\n",
      "non-phrases: 929022\n",
      "simplify: 299567\n",
      "suffix grace words: 10816\n",
      "Finished loading simplify model 3.2 sec\n"
     ]
    }
   ],
   "source": [
    "model_folder = 'D:/Cases/case1_procurement_structure_mapping/Dubug'\n",
    "model_filename = 'GoogleNews/GoogleNews-vectors-negative300.bin'\n",
    "slim_filename = 'GoogleNews-vectors-negative300-Simplify.bin'\n",
    "\n",
    "max_suffix_len = 2\n",
    "min_base_len = 8\n",
    "\n",
    "words = set()\n",
    "for dict_filename in os.listdir('dicts'):\n",
    "    with gzip.open('dicts/'+dict_filename, 'rt', encoding='utf8') as f:\n",
    "        temp = f.readlines()\n",
    "        save_len = len(temp)\n",
    "        for i in range(len(temp)):\n",
    "            temp[i] = temp[i].strip().lower()\n",
    "        temp = set(temp)\n",
    "        print('%s: %d -> %d' % (dict_filename, save_len, len(temp)))\n",
    "    words |= temp\n",
    "print('combined: %d' % (len(words)))\n",
    "\n",
    "start = time.time()\n",
    "model = KeyedVectors.load_word2vec_format(model_folder + '/' + model_filename, binary=True)\n",
    "print('Finished loading original model %.2f min' % ((time.time()-start)/60))\n",
    "print('word2vec: %d' % len(model.vocab))\n",
    "print('non-phrases: %d' % len([w for w in model.vocab.keys() if '_' not in w]))\n",
    "\n",
    "indices_to_delete = []\n",
    "j = 0\n",
    "suffix_grace_words = 0\n",
    "for i,w in enumerate(model.index2word):\n",
    "    l = w.strip().lower()\n",
    "    found = False\n",
    "    if l in words:\n",
    "        found = True\n",
    "    else:\n",
    "        for s in range(1, 1+max_suffix_len):\n",
    "            if len(l)-s<min_base_len:\n",
    "                break\n",
    "            elif l[:-s] in words:\n",
    "                suffix_grace_words += 1\n",
    "                found = True\n",
    "                break\n",
    "\n",
    "    if found:\n",
    "        model.vocab[w].index = j\n",
    "        j += 1\n",
    "    else:\n",
    "        del model.vocab[w]\n",
    "        indices_to_delete.append(i)\n",
    "\n",
    "#model.syn0 = np.delete(model.syn0, indices_to_delete, axis=0)\n",
    "model.vectors = np.delete(model.vectors, indices_to_delete, axis=0)\n",
    "print('simplify: %d' % len(model.vocab))\n",
    "print('suffix grace words: %d' % (suffix_grace_words))\n",
    "\n",
    "model.save_word2vec_format(model_folder + '/' + slim_filename, binary=True)\n",
    "del model\n",
    "\n",
    "start = time.time()\n",
    "model = KeyedVectors.load_word2vec_format(model_folder + '/' + slim_filename, binary=True)\n",
    "print('Finished loading simplify model %.1f sec' % ((time.time()-start)))"
   ]
  },
  {
   "cell_type": "code",
   "execution_count": null,
   "metadata": {},
   "outputs": [],
   "source": []
  }
 ],
 "metadata": {
  "kernelspec": {
   "display_name": "Python 3",
   "language": "python",
   "name": "python3"
  },
  "language_info": {
   "codemirror_mode": {
    "name": "ipython",
    "version": 3
   },
   "file_extension": ".py",
   "mimetype": "text/x-python",
   "name": "python",
   "nbconvert_exporter": "python",
   "pygments_lexer": "ipython3",
   "version": "3.6.4"
  }
 },
 "nbformat": 4,
 "nbformat_minor": 2
}
