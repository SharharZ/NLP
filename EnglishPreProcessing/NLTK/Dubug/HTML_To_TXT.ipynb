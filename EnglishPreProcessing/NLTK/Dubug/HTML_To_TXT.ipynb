{
 "cells": [
  {
   "cell_type": "code",
   "execution_count": 1,
   "metadata": {},
   "outputs": [],
   "source": [
    "import bs4\n",
    "import urllib.request \n",
    "import urllib\n",
    "import csv\n",
    "import pandas as pd"
   ]
  },
  {
   "cell_type": "code",
   "execution_count": 15,
   "metadata": {},
   "outputs": [],
   "source": [
    "def getHtml(url):\n",
    "    page = urllib.request.urlopen(url)  \n",
    "    html = page.read().decode(\"utf-8\")\n",
    "    return html\n",
    "\n",
    "html = getHtml(\"file:///D:/Cases/case1_procurentment_structure_mapping/data/998/print_template1.html\")\n"
   ]
  },
  {
   "cell_type": "code",
   "execution_count": 16,
   "metadata": {},
   "outputs": [
    {
     "name": "stdout",
     "output_type": "stream",
     "text": [
      "['', '01', 'Black and Non-ferrous Metal', 'M1', '通用 General', '', '0101', 'Rebar', 'M1', '通用 General', '', '0103', 'Steel Wire', 'M1', '通用 General', '', '0109', 'Round rebar', 'M1', '通用 General', '', '0119', 'U-steel', 'M5', '金属 Metal', '', '0121', 'Angle Steel', 'M5', '金属 Metal', '', '0127', 'Other Angle Steel', 'M5', '金属 Metal', '', '0129', 'Steel Board', 'M5', '金属 Metal', '', '0135', 'Steel Rail and Accessories', 'M5', '金属 Metal', '', '0145', 'Aluminium Board (Strip)', 'M5', '金属 Metal', '', '0153', 'Aluminium Alloy Section', 'M5', '金属 Metal', '', '0163', 'Other Metal', 'M5', '金属 Metal', '', '02', 'Rubber, Plastic and Non-metal', 'M1', '通用 General', '', '0217', 'Organic Glass', 'M1', '通用 General', '', '0219', 'Other Plastic Material', 'M1', '通用 General', '', '0229', 'Silk/Ramie and Relevant Product', 'M1', '通用 General', '', '0233', 'Grass and Relevant Product', 'M1', '通用 General', '', '03', 'Hardware', 'M1', '通用 General', '', '0303', 'Screw', 'M1', '通用 General', '', '0305', 'Bolt', 'M1', '通用 General', '', '0307', 'Expansion Bolt', 'M1', '通用 General', '', '0311', 'Bolt', 'M1', '通用 General', '', '0341', 'Welding Bar', 'M1', '通用 General', '', '0343', 'Welding Wire', 'M1', '通用 General', '', '0351', 'Ordinary Nail', 'M1', '通用 General', '', '0355', 'Net and Silk Cloth', 'M1', '通用 General', '', '0359', 'Iron Component', 'M1', '通用 General', '', '0361', '*Rebar Connector, Anchorage Device ', 'M1', '通用 General', '', '0363', 'Wires', 'M1', '通用 General', '', '0365', 'Cheap and Consumable Articles', 'M1', '通用 General', '', '04', 'Cement, Brick, Sand, Mortar and Concrete', 'M3', '混凝土 Concrete', '', '0401', 'Cement', 'M3', '混凝土 Concrete', '', '0403', 'Sand', 'M3', '混凝土 Concrete', '', '0407', 'Light Aggregate', 'M3', '混凝土 Concrete', '', '0409', '*Backfiling Mixture with Lime, Powder and', 'M3', '混凝土 Concrete', '', '0413', 'Brick', 'M3', '混凝土 Concrete', '', '0415', 'Blocks', 'M3', '混凝土 Concrete', '', '0427', 'Cement and Concrete Product', 'M3', '混凝土 Concrete', '', '0429', 'Steel Concrete Preform', 'M3', '混凝土 Concrete', '', '05', 'Wood, Banboo and Relevant Products', 'M6', '木材塑料 Wood & Plastic', '', '0503', 'Saw Material', 'M6', '木材塑料 Wood & Plastic', '', '0505', 'Plywood', 'M6', '木材塑料 Wood & Plastic', '', '0525', 'Other Wood Product', 'M6', '木材塑料 Wood & Plastic', '', '06', 'Glass, Ceramic and Tile', 'M1', '通用 General', '', '0601', 'Flat Board Glass', 'M1', '通用 General', '', '0602', 'Ceramic Tile', 'M1', '通用 General', '', '0605', 'stalinite', 'M1', '通用 General', '', '0621', 'Glass with Memberane', 'M1', '通用 General', '', '07', 'Flooring Material', 'M9', '地板 Flooring', '', '0701', 'Natural Stone Board', 'M9', '地板 Flooring', '', '09', 'Door&Window', 'M8', '门窗 Doors & Windows', '', '0901', 'Wood Windows and doors', 'M8', '门窗 Doors & Windows', '', '0902', 'Metal Doors and Window', 'M8', '门窗 Doors & Windows', '', '0951', 'Wooden wall hardware accessories', 'M8', '门窗 Doors & Windows', '', '10', '*Decoration Line, Decoration Articles,Rail', 'M1', '通用 General', '', '1009', 'Plastic Decoration Line', 'M1', '通用 General', '', '100', 'Supplementary', 'M1', '通用 General', '', '11', '*Painting and Antiseptic Waterproofing Mat', 'M7', '防水保温 Waterproofing & Insulation', '', '1103', 'Functional Painting', 'M7', '防水保温 Waterproofing & Insulation', '', '1111', 'General Painting', 'M7', '防水保温 Waterproofing & Insulation', '', '1141', 'Oil and Resin', 'M7', '防水保温 Waterproofing & Insulation', '', '1143', 'Pigment and Padding', 'M7', '防水保温 Waterproofing & Insulation', '', '1155', 'Bitumen', 'M7', '防水保温 Waterproofing & Insulation', '', '1159', 'Waterproof ointment,agent,powder,glue', 'M7', '防水保温 Waterproofing & Insulation', '', '12', 'Oil, Chemical Material and Glue Material', 'M11', 'Expansion Materials', '', '1201', 'Burning Oil', 'M11', 'Expansion Materials', '', '1231', 'Organic Chemical Material', 'M11', 'Expansion Materials', '', '1235', 'Chemical Padding', 'M11', 'Expansion Materials', '', '1237', 'Industrial Gas', 'M11', 'Expansion Materials', '', '1241', 'Adhesives', 'M11', 'Expansion Materials', '', '1243', 'Glue Productive', 'M11', 'Expansion Materials', '', '14', 'Pipe', 'M1', '通用 General', '', '1404', 'Anti-rust Steel Pipe', 'M1', '通用 General', '', '15', 'Pipe Accessories', 'M1', '通用 General', '', '1537', 'Pipe Clip, Pipe Hoop', 'M1', '通用 General', '', '17', 'Flange', 'M1', '通用 General', '', '1733', 'Non-metallic gaskets', 'M1', '通用 General', '', '26', 'Auxilliary Materials for the Eletrical', 'M1', '通用 General', '', '2625', 'Wiring attachment', 'M1', '通用 General', '', '28', 'Antique Construction Material', 'M1', '通用 General', '', '2819', 'Pasting Paper Material', 'M1', '通用 General', '', '31', '*Sealant, Electrode and Appliances for Lab', 'M1', '通用 General', '', '3101', 'Sealant Material', 'M1', '通用 General', '', '3109', 'Paper, Pensil', 'M1', '通用 General', '', '3113', 'Fragmentary Material', 'M1', '通用 General', '', '3115', 'Water,Electric, Gas, Coal', 'M1', '通用 General', '', '80', 'Concrete and Mortar Produc', 'M3', '混凝土 Concrete', '', '8001', 'Cement mixed with Mortar', 'M3', '混凝土 Concrete', '', '8007', 'Special Mortar', 'M3', '混凝土 Concrete', '', '8011', 'Mortar, Cement Paste', 'M3', '混凝土 Concrete', '', '8015', 'Plaster Grease and Oil', 'M3', '混凝土 Concrete', '', '8021', 'Cement Concrete', 'M3', '混凝土 Concrete', '', '8031', 'lime-soil Cushion', 'M3', '混凝土 Concrete', '', 'M', 'Materials', 'M1', '通用 General', '', 'M01', 'Concrete Work', 'M3', '混凝土 Concrete', '', 'M0103', 'Concrete', 'M3', '混凝土 Concrete', '', 'M01030004', 'Designed Mix', 'M3', '混凝土 Concrete', '', 'M0104', 'Formwork', 'M3', '混凝土 Concrete', '', 'M01040000', 'Nails', 'M3', '混凝土 Concrete', '', 'M01040001', 'Oil', 'M3', '混凝土 Concrete', '', 'M0110', 'Precast', 'M3', '混凝土 Concrete', '', 'M01100007', 'Lintels', 'M3', '混凝土 Concrete', '', 'M0112', 'Reinforcement', 'M3', '混凝土 Concrete', '', 'M01120000', 'Bars', 'M3', '混凝土 Concrete', '', 'M01120004', 'Sundries', 'M3', '混凝土 Concrete', '', 'M02', 'Damproof', 'M1', '通用 General', '', 'M0200', 'DPC', 'M1', '通用 General', '', 'M02000000', 'Hyload', 'M1', '通用 General', '', 'M0201', 'Membranes', 'M1', '通用 General', '', 'M02010001', 'Felt', 'M1', '通用 General', '', 'M04', 'Earthworks', 'M1', '通用 General', '', 'M0405', 'Landscaping', 'M1', '通用 General', '', 'M04050001', 'Mortars', 'M1', '通用 General', '', 'M0408', 'Support', 'M1', '通用 General', '', 'M04080001', 'Timbers', 'M1', '通用 General', '', 'M10', 'Finishes', 'M1', '通用 General', '', 'M1010', 'Fixings', 'M1', '通用 General', '', 'M10100000', 'Gyproc', 'M1', '通用 General', '', 'M1017', 'Paints', 'M1', '通用 General', '', 'M10170001', 'Emulsion', 'M1', '通用 General', '', 'M1020', 'Plaster', 'M1', '通用 General', '', 'M10200001', 'Boards', 'M1', '通用 General', '', 'M1034', 'Vinyl Flooring', 'M1', '通用 General', '', 'M10340000', 'Pc Value', 'M1', '通用 General', '', 'M13', 'Joinery', 'M1', '通用 General', '', 'M1304', 'Doors', 'M1', '通用 General', '', 'M13040000', 'External', 'M1', '通用 General', '', 'M170220103', 'Garage', 'M1', '通用 General', '', 'M170220106', 'Softwood', 'M1', '通用 General', '', 'M1307', 'Fixings', 'M1', '通用 General', '', 'M13070000', 'NAILS & PIN', 'M1', '通用 General', '', 'M13070002', 'Screws', 'M1', '通用 General', '', 'M1312', 'Insulation', 'M1', '通用 General', '', 'M13120003', 'Fibreglass', 'M1', '通用 General', '', 'M1315', 'Laminates', 'M1', '通用 General', '', 'M13150000', 'Beams', 'M1', '通用 General', '', 'M1327', 'Sheets', 'M1', '通用 General', '', 'M13270007', 'Plywood', 'M1', '通用 General', '', 'M13270008', 'Sundeala', 'M1', '通用 General', '', 'M1329', 'Softwood', 'M1', '通用 General', '', 'M13290001', 'Boarding', 'M1', '通用 General', '', 'M171040202', 'Shiplap', 'M1', '通用 General', '', 'M13290009', 'Sawn', 'M1', '通用 General', '', 'M171041902', 'Gs', 'M1', '通用 General', '', 'M171041904', 'SC3', 'M1', '通用 General', '', 'M1330', 'Staircase', 'M1', '通用 General', '', 'M13300000', 'Balusters', 'M1', '通用 General', '', 'M13300001', 'Handrail', 'M1', '通用 General', '', 'M13300003', 'Standard', 'M1', '通用 General', '', 'M13300005', 'String', 'M1', '通用 General', '', 'M1331', 'Sundries', 'M1', '通用 General', '', 'M13310000', 'Adhesives', 'M1', '通用 General', '', 'M15', 'Masonry & Bricks', 'M4', '砌块 Masonry & Stones', '', 'M1504', 'Bricks', 'M4', '砌块 Masonry & Stones', '', 'M15040002', 'Facing', 'M4', '砌块 Masonry & Stones', '', 'M1505', 'Cavity Closer', 'M4', '砌块 Masonry & Stones', '', 'M15050000', 'Thermabate', 'M4', '砌块 Masonry & Stones', '', 'M1522', 'Reinforcement', 'M4', '砌块 Masonry & Stones', '', 'M15220000', 'Galvanised', 'M4', '砌块 Masonry & Stones', '', 'M21', 'Roofing', 'M1', '通用 General', '', 'M2102', 'Battens', 'M1', '通用 General', '', 'M2700900', 'Softwood', 'M1', '通用 General', '', 'M2105', 'Fixings', 'M1', '通用 General', '', 'M2703405', 'Nails & Pin', 'M1', '通用 General', '', 'M2106', 'Insulation', 'M1', '通用 General', '', 'M2704201', 'Fibreglass', 'M1', '通用 General', '', 'M2107', 'Membranes', 'M1', '通用 General', '', 'M2704710', 'Roof Felts', 'M1', '通用 General', '', 'M2109', 'Metalroof', 'M1', '通用 General', '', 'M2705000', 'Coppe', 'M1', '通用 General', '', 'M2116', 'Slates', 'M1', '通用 General', '', 'M2706706', 'M2706706\\tNatural', 'M1', '通用 General']\n",
      "<class 'list'>\n"
     ]
    }
   ],
   "source": [
    "soup=bs4.BeautifulSoup(html,'html.parser')\n",
    "soup.prettify()\n",
    "tds = soup.find_all('td')\n",
    "\n",
    "td_content=[]\n",
    "for i in tds:\n",
    "    #print(i.text) #这里取标签span的内容\n",
    "    td_content.append(i.text)\n",
    "print(td_content) \n",
    "print(type(td_content))"
   ]
  },
  {
   "cell_type": "code",
   "execution_count": 17,
   "metadata": {},
   "outputs": [
    {
     "name": "stdout",
     "output_type": "stream",
     "text": [
      "ok!\n"
     ]
    }
   ],
   "source": [
    "i = 1\n",
    "with open('data.csv', 'ab') as f:\n",
    "    for item in td_content:\n",
    "        i += 1\n",
    "        #print(item)\n",
    "        line = item + ','\n",
    "        if i%6 == 0:\n",
    "            i = 1\n",
    "            line = line + '\\n'\n",
    "       \n",
    "        f.write(line.encode('utf-8'))\n",
    "f.close()\n",
    "print(\"ok!\")"
   ]
  },
  {
   "cell_type": "code",
   "execution_count": null,
   "metadata": {},
   "outputs": [],
   "source": []
  },
  {
   "cell_type": "code",
   "execution_count": null,
   "metadata": {},
   "outputs": [],
   "source": []
  },
  {
   "cell_type": "code",
   "execution_count": 2,
   "metadata": {},
   "outputs": [],
   "source": [
    "#第二种方法\n",
    "#检查url地址  \n",
    "def check_link(url):  \n",
    "    try:        \n",
    "        r = requests.get(url)  \n",
    "        r.raise_for_status()  \n",
    "        r.encoding = r.apparent_encoding  \n",
    "        return r.text  \n",
    "    except:  \n",
    "        print('无法链接服务器！！！')  \n",
    "  \n",
    "  \n",
    "#爬取资源  \n",
    "def get_contents(ulist,rurl):  \n",
    "    page = urllib.request.urlopen(rurl)  \n",
    "    html = page.read().decode(\"utf-8\")\n",
    "    soup=bs4.BeautifulSoup(html,'html.parser') \n",
    "    trs = soup.find_all('tr')  \n",
    "    print(trs)\n",
    "    for tr in trs:  \n",
    "        ui = []  \n",
    "        for td in tr:  \n",
    "            ui.append(td.string)  \n",
    "        ulist.append(ui) \n",
    "\n",
    "\n",
    "      \n",
    " #保存资源  \n",
    "def save_contents(urlist):\n",
    "    try:  \n",
    "        with open(\"data.csv\",'ab') as f:  \n",
    "            writer = csv.writer(f)   \n",
    "            for i in range(len(urlist)):  \n",
    "                writer.writerow([urlist[i][2],urlist[i][3],urlist[i][4]]) \n",
    "    except:\n",
    "        print('保存资源失败！')\n",
    "        \n",
    "def main():\n",
    "    urli = []  \n",
    "    url = \"file:///D:/Cases/case1_procurentment_structure_mapping/data/901/print_template8.html\"  \n",
    "    #rs = check_link(url)  \n",
    "    get_contents(urli,url)  \n",
    "    save_contents(urli)  \n"
   ]
  },
  {
   "cell_type": "code",
   "execution_count": 3,
   "metadata": {},
   "outputs": [
    {
     "name": "stdout",
     "output_type": "stream",
     "text": [
      "[<tr class=\"Header\"><th>Filter</th><th>Code</th><th>Description</th><th>Structure Code</th><th>Structure Description</th></tr>, <tr><td class=\"\" colspan=\"1\"><div class=\"text-center\"><input type=\"checkbox\" unchecked=\"\"/></div></td><td class=\"\" colspan=\"1\">A00000</td><td class=\"\" colspan=\"1\">浴室</td><td class=\"\" colspan=\"1\">M</td><td class=\"\" colspan=\"1\">Material</td></tr>, <tr><td class=\"\" colspan=\"1\"><div class=\"text-center\"><input type=\"checkbox\" unchecked=\"\"/></div></td><td class=\"\" colspan=\"1\">A00200</td><td class=\"\" colspan=\"1\">座便器</td><td class=\"\" colspan=\"1\">M1.2</td><td class=\"\" colspan=\"1\">Frame Products</td></tr>, <tr><td class=\"\" colspan=\"1\"><div class=\"text-center\"><input type=\"checkbox\" unchecked=\"\"/></div></td><td class=\"\" colspan=\"1\">A00202</td><td class=\"\" colspan=\"1\">分体式座便器</td><td class=\"\" colspan=\"1\">M1.2.2</td><td class=\"\" colspan=\"1\">Metal products</td></tr>, <tr><td class=\"\" colspan=\"1\"><div class=\"text-center\"><input type=\"checkbox\" unchecked=\"\"/></div></td><td class=\"\" colspan=\"1\">A00400</td><td class=\"\" colspan=\"1\">浴缸和裙边</td><td class=\"\" colspan=\"1\">M</td><td class=\"\" colspan=\"1\">Material</td></tr>, <tr><td class=\"\" colspan=\"1\"><div class=\"text-center\"><input type=\"checkbox\" unchecked=\"\"/></div></td><td class=\"\" colspan=\"1\">A00401</td><td class=\"\" colspan=\"1\">标准浴缸</td><td class=\"\" colspan=\"1\">M</td><td class=\"\" colspan=\"1\">Material</td></tr>, <tr><td class=\"\" colspan=\"1\"><div class=\"text-center\"><input type=\"checkbox\" unchecked=\"\"/></div></td><td class=\"\" colspan=\"1\">A00600</td><td class=\"\" colspan=\"1\">淋浴房</td><td class=\"\" colspan=\"1\">M</td><td class=\"\" colspan=\"1\">Material</td></tr>, <tr><td class=\"\" colspan=\"1\"><div class=\"text-center\"><input type=\"checkbox\" unchecked=\"\"/></div></td><td class=\"\" colspan=\"1\">A00601</td><td class=\"\" colspan=\"1\">转轴式</td><td class=\"\" colspan=\"1\">M</td><td class=\"\" colspan=\"1\">Material</td></tr>, <tr><td class=\"\" colspan=\"1\"><div class=\"text-center\"><input type=\"checkbox\" unchecked=\"\"/></div></td><td class=\"\" colspan=\"1\">A01100</td><td class=\"\" colspan=\"1\">花洒</td><td class=\"\" colspan=\"1\">M</td><td class=\"\" colspan=\"1\">Material</td></tr>, <tr><td class=\"\" colspan=\"1\"><div class=\"text-center\"><input type=\"checkbox\" unchecked=\"\"/></div></td><td class=\"\" colspan=\"1\">A01101</td><td class=\"\" colspan=\"1\">淋浴系统</td><td class=\"\" colspan=\"1\">M</td><td class=\"\" colspan=\"1\">Material</td></tr>, <tr><td class=\"\" colspan=\"1\"><div class=\"text-center\"><input type=\"checkbox\" unchecked=\"\"/></div></td><td class=\"\" colspan=\"1\">F00000</td><td class=\"\" colspan=\"1\">电气</td><td class=\"\" colspan=\"1\">M</td><td class=\"\" colspan=\"1\">Material</td></tr>, <tr><td class=\"\" colspan=\"1\"><div class=\"text-center\"><input type=\"checkbox\" unchecked=\"\"/></div></td><td class=\"\" colspan=\"1\">F00200</td><td class=\"\" colspan=\"1\">导管和线槽</td><td class=\"\" colspan=\"1\">M</td><td class=\"\" colspan=\"1\">Material</td></tr>, <tr><td class=\"\" colspan=\"1\"><div class=\"text-center\"><input type=\"checkbox\" unchecked=\"\"/></div></td><td class=\"\" colspan=\"1\">F00204</td><td class=\"\" colspan=\"1\">入墙式接线盒</td><td class=\"\" colspan=\"1\">M</td><td class=\"\" colspan=\"1\">Material</td></tr>, <tr><td class=\"\" colspan=\"1\"><div class=\"text-center\"><input type=\"checkbox\" unchecked=\"\"/></div></td><td class=\"\" colspan=\"1\">F00300</td><td class=\"\" colspan=\"1\">Switches</td><td class=\"\" colspan=\"1\">M</td><td class=\"\" colspan=\"1\">Material</td></tr>, <tr><td class=\"\" colspan=\"1\"><div class=\"text-center\"><input type=\"checkbox\" unchecked=\"\"/></div></td><td class=\"\" colspan=\"1\">F00301</td><td class=\"\" colspan=\"1\">单向灯具开关</td><td class=\"\" colspan=\"1\">M</td><td class=\"\" colspan=\"1\">Material</td></tr>, <tr><td class=\"\" colspan=\"1\"><div class=\"text-center\"><input type=\"checkbox\" unchecked=\"\"/></div></td><td class=\"\" colspan=\"1\">F00306</td><td class=\"\" colspan=\"1\">开关备件</td><td class=\"\" colspan=\"1\">M</td><td class=\"\" colspan=\"1\">Material</td></tr>, <tr><td class=\"\" colspan=\"1\"><div class=\"text-center\"><input type=\"checkbox\" unchecked=\"\"/></div></td><td class=\"\" colspan=\"1\">F00400</td><td class=\"\" colspan=\"1\">插座</td><td class=\"\" colspan=\"1\">M</td><td class=\"\" colspan=\"1\">Material</td></tr>, <tr><td class=\"\" colspan=\"1\"><div class=\"text-center\"><input type=\"checkbox\" unchecked=\"\"/></div></td><td class=\"\" colspan=\"1\">F00401</td><td class=\"\" colspan=\"1\">墙装电源插座(110V/220V)</td><td class=\"\" colspan=\"1\">M</td><td class=\"\" colspan=\"1\">Material</td></tr>, <tr><td class=\"\" colspan=\"1\"><div class=\"text-center\"><input type=\"checkbox\" unchecked=\"\"/></div></td><td class=\"\" colspan=\"1\">F00402</td><td class=\"\" colspan=\"1\">入墙式电源插座</td><td class=\"\" colspan=\"1\">M</td><td class=\"\" colspan=\"1\">Material</td></tr>, <tr><td class=\"\" colspan=\"1\"><div class=\"text-center\"><input type=\"checkbox\" unchecked=\"\"/></div></td><td class=\"\" colspan=\"1\">H00000</td><td class=\"\" colspan=\"1\">Timber, Doors &amp; Windows</td><td class=\"\" colspan=\"1\">M</td><td class=\"\" colspan=\"1\">Material</td></tr>, <tr><td class=\"\" colspan=\"1\"><div class=\"text-center\"><input type=\"checkbox\" unchecked=\"\"/></div></td><td class=\"\" colspan=\"1\">H00400</td><td class=\"\" colspan=\"1\">Interior Doors</td><td class=\"\" colspan=\"1\">M</td><td class=\"\" colspan=\"1\">Material</td></tr>, <tr><td class=\"\" colspan=\"1\"><div class=\"text-center\"><input type=\"checkbox\" unchecked=\"\"/></div></td><td class=\"\" colspan=\"1\">H00404</td><td class=\"\" colspan=\"1\">Moulded Doors</td><td class=\"\" colspan=\"1\">M</td><td class=\"\" colspan=\"1\">Material</td></tr>, <tr><td class=\"\" colspan=\"1\"><div class=\"text-center\"><input type=\"checkbox\" unchecked=\"\"/></div></td><td class=\"\" colspan=\"1\">J00000</td><td class=\"\" colspan=\"1\">管道和供暖</td><td class=\"\" colspan=\"1\">M</td><td class=\"\" colspan=\"1\">Material</td></tr>, <tr><td class=\"\" colspan=\"1\"><div class=\"text-center\"><input type=\"checkbox\" unchecked=\"\"/></div></td><td class=\"\" colspan=\"1\">J00600</td><td class=\"\" colspan=\"1\">阀</td><td class=\"\" colspan=\"1\">M</td><td class=\"\" colspan=\"1\">Material</td></tr>, <tr><td class=\"\" colspan=\"1\"><div class=\"text-center\"><input type=\"checkbox\" unchecked=\"\"/></div></td><td class=\"\" colspan=\"1\">J00601</td><td class=\"\" colspan=\"1\">启动/停止阀</td><td class=\"\" colspan=\"1\">M</td><td class=\"\" colspan=\"1\">Material</td></tr>]\n",
      "保存资源失败！\n"
     ]
    }
   ],
   "source": [
    "main()"
   ]
  },
  {
   "cell_type": "code",
   "execution_count": null,
   "metadata": {},
   "outputs": [],
   "source": []
  }
 ],
 "metadata": {
  "kernelspec": {
   "display_name": "Python 3",
   "language": "python",
   "name": "python3"
  },
  "language_info": {
   "codemirror_mode": {
    "name": "ipython",
    "version": 3
   },
   "file_extension": ".py",
   "mimetype": "text/x-python",
   "name": "python",
   "nbconvert_exporter": "python",
   "pygments_lexer": "ipython3",
   "version": "3.6.4"
  }
 },
 "nbformat": 4,
 "nbformat_minor": 2
}
