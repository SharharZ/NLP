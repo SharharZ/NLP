{
 "cells": [
  {
   "cell_type": "code",
   "execution_count": 23,
   "metadata": {},
   "outputs": [
    {
     "name": "stderr",
     "output_type": "stream",
     "text": [
      "C:\\Users\\two\\Anaconda3\\lib\\site-packages\\gensim\\utils.py:1197: UserWarning: detected Windows; aliasing chunkize to chunkize_serial\n",
      "  warnings.warn(\"detected Windows; aliasing chunkize to chunkize_serial\")\n"
     ]
    }
   ],
   "source": [
    "from gensim.models.keyedvectors import KeyedVectors\n",
    "import os"
   ]
  },
  {
   "cell_type": "code",
   "execution_count": 24,
   "metadata": {},
   "outputs": [],
   "source": [
    "def model_to_bin(path):\n",
    "    model_name = \"train.model\"\n",
    "    bin_name = \"train.bin\"\n",
    "    # model convert to bin\n",
    "    print(\"Model to bin......\")\n",
    "    model = KeyedVectors.load(path+model_name)\n",
    "    print(\"Done loading model file!\")\n",
    "    # 以一种C语言可以解析的形式存储词向量\n",
    "    model.wv.save_word2vec_format(path+bin_name, binary=True)\n",
    "    print(\"Model to bin, Conversion to complete!!\\n\")"
   ]
  },
  {
   "cell_type": "code",
   "execution_count": null,
   "metadata": {},
   "outputs": [
    {
     "name": "stdout",
     "output_type": "stream",
     "text": [
      "D:\\Cases\\test\\Debug\n",
      "Model to bin......\n",
      "Done loading model file!\n"
     ]
    }
   ],
   "source": [
    "if __name__ == '__main__':\n",
    "    print(os.getcwd())\n",
    "    model_to_bin('../../train/Code/model/Civil Engineering e-Books&wiki/skip-gram&min_count=1/')"
   ]
  },
  {
   "cell_type": "code",
   "execution_count": null,
   "metadata": {},
   "outputs": [],
   "source": []
  }
 ],
 "metadata": {
  "kernelspec": {
   "display_name": "Python 3",
   "language": "python",
   "name": "python3"
  },
  "language_info": {
   "codemirror_mode": {
    "name": "ipython",
    "version": 3
   },
   "file_extension": ".py",
   "mimetype": "text/x-python",
   "name": "python",
   "nbconvert_exporter": "python",
   "pygments_lexer": "ipython3",
   "version": "3.6.4"
  }
 },
 "nbformat": 4,
 "nbformat_minor": 2
}
