{
 "cells": [
  {
   "cell_type": "code",
   "execution_count": 1,
   "metadata": {},
   "outputs": [],
   "source": [
    "import pandas as pd\n",
    "import warnings\n",
    "warnings.filterwarnings(action='ignore', category=UserWarning, module='gensim')\n",
    "import os\n",
    "import re\n",
    "\n",
    "from gensim.models import word2vec\n",
    "import logging\n",
    "from gensim.models.keyedvectors import KeyedVectors"
   ]
  },
  {
   "cell_type": "code",
   "execution_count": 8,
   "metadata": {},
   "outputs": [
    {
     "name": "stdout",
     "output_type": "stream",
     "text": [
      "Corpus/Civil Engineering e-Books_Remove_Stopwords.txt\n",
      "model finished!!\n"
     ]
    }
   ],
   "source": [
    "dir = 'Corpus/'\n",
    "for root, dirs, files in os.walk(dir):\n",
    "    for eachfiles in files:\n",
    "        dataPath = os.path.join(root, eachfiles).replace(\"\\\\\",\"/\")\n",
    "        print(dataPath)\n",
    "        sents = word2vec.LineSentence(dataPath)\n",
    "        model =  word2vec.Word2Vec(sents, size=200, window=5, min_count=1, workers=1)\n",
    "model.save(\"Model/Civil Engineering e-Books_RemoveStopwords200.model\", ignore=[])\n",
    "print(\"model finished!!\")"
   ]
  },
  {
   "cell_type": "code",
   "execution_count": 9,
   "metadata": {},
   "outputs": [
    {
     "name": "stdout",
     "output_type": "stream",
     "text": [
      "Model to bin, Conversion to complete!! \n"
     ]
    }
   ],
   "source": [
    "#model convert to bin\n",
    "model = KeyedVectors.load(\"Model/Civil Engineering e-Books_RemoveStopwords200.model\")\n",
    "# 以一种C语言可以解析的形式存储词向量  \n",
    "model.wv.save_word2vec_format(\"Model/Civil Engineering e-Books_RemoveStopwords200.bin\", binary=True)\n",
    "print(\"Model to bin, Conversion to complete!! \")"
   ]
  },
  {
   "cell_type": "code",
   "execution_count": 16,
   "metadata": {},
   "outputs": [
    {
     "name": "stdout",
     "output_type": "stream",
     "text": [
      "Done loading Word2Vec!\n",
      "Bin to txt, Conversion to complete!! \n"
     ]
    }
   ],
   "source": [
    "#bin to txt\n",
    "model = KeyedVectors.load_word2vec_format('Model/Civil Engineering e-Books-WithStopwords300.bin', binary=True)\n",
    "print(\"Done loading Word2Vec!\")\n",
    "f = open('Model/Civil Engineering e-Books-Civil Engineering e-Books_WithStopwords300.txt','w', encoding='utf8')\n",
    "vocab = model.vocab\n",
    "f.write(str(len(vocab))+\" \"+str(model.vector_size)+\"\\n\\n\")\n",
    "for item in vocab:\n",
    "    vector = []  \n",
    "    for dimension in model[item]:\n",
    "        vector.append(str(dimension))\n",
    "    vector_str = \",\".join(vector)\n",
    "    line = item + \" \"  + vector_str \n",
    "    f.write(line + \"\\n\\n\")\n",
    "f.close()\n",
    "print(\"Bin to txt, Conversion to complete!! \")"
   ]
  },
  {
   "cell_type": "code",
   "execution_count": null,
   "metadata": {},
   "outputs": [],
   "source": []
  }
 ],
 "metadata": {
  "kernelspec": {
   "display_name": "Python 3",
   "language": "python",
   "name": "python3"
  },
  "language_info": {
   "codemirror_mode": {
    "name": "ipython",
    "version": 3
   },
   "file_extension": ".py",
   "mimetype": "text/x-python",
   "name": "python",
   "nbconvert_exporter": "python",
   "pygments_lexer": "ipython3",
   "version": "3.6.4"
  }
 },
 "nbformat": 4,
 "nbformat_minor": 2
}
